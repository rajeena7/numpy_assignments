{
 "cells": [
  {
   "cell_type": "code",
   "execution_count": 1,
   "id": "82d5aef0-ee1e-4fb5-80ce-6139d0050bc1",
   "metadata": {},
   "outputs": [],
   "source": [
    "#1. What is a Python library? Why ^o we use Python libraries?"
   ]
  },
  {
   "cell_type": "code",
   "execution_count": null,
   "id": "8c2fcb6d-b4dc-4159-aed0-e5667dc43d10",
   "metadata": {},
   "outputs": [],
   "source": [
    "'''A Python library is a collection of functions and methods that allow you to perform many actions without\n",
    "writing your own code for each action. Libraries typically contain reusable code modules that can be easily \n",
    "integrated into your own programs to extend their functionality.'''\n",
    "\n"
   ]
  },
  {
   "cell_type": "code",
   "execution_count": 2,
   "id": "978ba7f8-3a24-4193-9c36-6f667996dee4",
   "metadata": {},
   "outputs": [],
   "source": [
    "#2. What is the ^ifference between Numpy array an^ List?"
   ]
  },
  {
   "cell_type": "code",
   "execution_count": null,
   "id": "45404748-6a96-4dde-9b9b-1d4eac1dc11e",
   "metadata": {},
   "outputs": [],
   "source": [
    "'''\n",
    "NumPy Array: NumPy arrays are more efficient and faster than Python lists,\n",
    "especially for large datasets. They use less memory and provide better performance for numerical operations.\n",
    "List: Python lists are slower and consume more memory due to the overhead of storing type information and other metadata.\n",
    " NumPy arrays are preferable for numerical and scientific computing due to their efficiency and advanced functionality, while Python lists are more versatile for \n",
    " general-purpose programming.'''\n"
   ]
  },
  {
   "cell_type": "code",
   "execution_count": null,
   "id": "3686d658-36a0-4411-b490-2a6e003ee4a6",
   "metadata": {},
   "outputs": [],
   "source": [
    "#3. Fin^ the shape, size an^ ^imension of the following array?\n",
    "'''[[1, 2, 3, 4]\n",
    "\n",
    "[5, 6, 7, 8],\n",
    "\n",
    "[9, 10, 11, 12]'''"
   ]
  },
  {
   "cell_type": "code",
   "execution_count": 3,
   "id": "351a6e50-97f9-443e-a9b6-de362a26091a",
   "metadata": {},
   "outputs": [],
   "source": [
    "import numpy as np"
   ]
  },
  {
   "cell_type": "code",
   "execution_count": 6,
   "id": "294115a9-760e-44ab-bdb0-279041c979a1",
   "metadata": {},
   "outputs": [],
   "source": [
    "array=np.array([[1,2,3,4],[5,6,7,8],[9,10,11,12]])"
   ]
  },
  {
   "cell_type": "code",
   "execution_count": 7,
   "id": "980c7b75-d7b0-44e3-a28d-01c343d9a6a3",
   "metadata": {},
   "outputs": [
    {
     "data": {
      "text/plain": [
       "array([[ 1,  2,  3,  4],\n",
       "       [ 5,  6,  7,  8],\n",
       "       [ 9, 10, 11, 12]])"
      ]
     },
     "execution_count": 7,
     "metadata": {},
     "output_type": "execute_result"
    }
   ],
   "source": [
    "array"
   ]
  },
  {
   "cell_type": "code",
   "execution_count": 9,
   "id": "9631d361-cbb8-4bcb-9ef1-9c633166952a",
   "metadata": {},
   "outputs": [
    {
     "data": {
      "text/plain": [
       "(3, 4)"
      ]
     },
     "execution_count": 9,
     "metadata": {},
     "output_type": "execute_result"
    }
   ],
   "source": [
    "#shape\n",
    "array.shape"
   ]
  },
  {
   "cell_type": "code",
   "execution_count": 10,
   "id": "472422e2-c0ae-495f-9e69-077a61141c52",
   "metadata": {},
   "outputs": [
    {
     "data": {
      "text/plain": [
       "12"
      ]
     },
     "execution_count": 10,
     "metadata": {},
     "output_type": "execute_result"
    }
   ],
   "source": [
    "#size\n",
    "array.size"
   ]
  },
  {
   "cell_type": "code",
   "execution_count": 11,
   "id": "e8da705b-9f1f-4d22-b9ff-9d36bf339c50",
   "metadata": {},
   "outputs": [
    {
     "data": {
      "text/plain": [
       "2"
      ]
     },
     "execution_count": 11,
     "metadata": {},
     "output_type": "execute_result"
    }
   ],
   "source": [
    "#dimension\n",
    "array.ndim"
   ]
  },
  {
   "cell_type": "code",
   "execution_count": null,
   "id": "42082ab2-c252-4be6-b696-a820393966d9",
   "metadata": {},
   "outputs": [],
   "source": [
    "#4. Write python co^e to access the first row of the following array?\n",
    "\n",
    "'''[[1, 2, 3, 4]\n",
    "\n",
    "[5, 6, 7, 8],\n",
    "\n",
    "[9, 10, 11, 12]]'''"
   ]
  },
  {
   "cell_type": "code",
   "execution_count": 12,
   "id": "93b8536e-f2ea-4993-b932-dca9622160a9",
   "metadata": {},
   "outputs": [],
   "source": [
    "array1=np.array([[1,2,3,4],[5,6,7,8],[9,10,11,12]])"
   ]
  },
  {
   "cell_type": "code",
   "execution_count": 13,
   "id": "6c33171d-fe2b-4d6a-9d7b-92807f214192",
   "metadata": {},
   "outputs": [
    {
     "data": {
      "text/plain": [
       "array([[ 1,  2,  3,  4],\n",
       "       [ 5,  6,  7,  8],\n",
       "       [ 9, 10, 11, 12]])"
      ]
     },
     "execution_count": 13,
     "metadata": {},
     "output_type": "execute_result"
    }
   ],
   "source": [
    "array1"
   ]
  },
  {
   "cell_type": "code",
   "execution_count": 16,
   "id": "b2739418-3eed-45e7-a1b8-ea8fae346bb1",
   "metadata": {},
   "outputs": [
    {
     "name": "stdout",
     "output_type": "stream",
     "text": [
      "[1 2 3 4]\n"
     ]
    }
   ],
   "source": [
    "#accessing first row\n",
    "\n",
    "first_row=array1[0]\n",
    "print(first_row)"
   ]
  },
  {
   "cell_type": "code",
   "execution_count": null,
   "id": "190ce014-133a-46ad-946b-efbcfb1202b4",
   "metadata": {},
   "outputs": [],
   "source": [
    "'''\n",
    "5. How ^o you access the element at the thir^ row an^ fourth column from the given numpy array?\n",
    "\n",
    "[[1, 2, 3, 4]\n",
    "\n",
    "[5, 6, 7, 8],\n",
    "\n",
    "[9, 10, 11, 12]]'''"
   ]
  },
  {
   "cell_type": "code",
   "execution_count": 19,
   "id": "ac2dd24d-254f-4167-a238-3022b5b587e8",
   "metadata": {},
   "outputs": [],
   "source": [
    "array2=np.array([[1,2,3,4],[5,6,7,8],[9,10,11,12]])"
   ]
  },
  {
   "cell_type": "code",
   "execution_count": 20,
   "id": "c51122af-99b8-4b30-9813-9b54209ed0ef",
   "metadata": {},
   "outputs": [
    {
     "data": {
      "text/plain": [
       "array([[ 1,  2,  3,  4],\n",
       "       [ 5,  6,  7,  8],\n",
       "       [ 9, 10, 11, 12]])"
      ]
     },
     "execution_count": 20,
     "metadata": {},
     "output_type": "execute_result"
    }
   ],
   "source": [
    "array2"
   ]
  },
  {
   "cell_type": "code",
   "execution_count": 23,
   "id": "02b56b4a-d398-4f61-b564-12bd07d43f4d",
   "metadata": {},
   "outputs": [
    {
     "name": "stdout",
     "output_type": "stream",
     "text": [
      "12\n"
     ]
    }
   ],
   "source": [
    "#access the element at the thir^ row an^ fourth column\n",
    "\n",
    "ele=array2[2,3]\n",
    "print(ele)\n"
   ]
  },
  {
   "cell_type": "code",
   "execution_count": null,
   "id": "9e505081-5a20-4100-8231-1a85ed75b629",
   "metadata": {},
   "outputs": [],
   "source": [
    "'''\n",
    "    6. Write co^e to extract all o^^-in^exe^ elements from the given numpy array?\n",
    "\n",
    "    [[1, 2, 3, 4]\n",
    "\n",
    "    [5, 6, 7, 8],\n",
    "\n",
    "    [9, 10, 11, 12]]'''"
   ]
  },
  {
   "cell_type": "code",
   "execution_count": 25,
   "id": "c62ab85e-e92d-4cda-ae4c-6d8c3ae60675",
   "metadata": {},
   "outputs": [],
   "source": [
    "array4=np.array([[1, 2, 3, 4],[5, 6, 7, 8],[9, 10, 11, 12]])"
   ]
  },
  {
   "cell_type": "code",
   "execution_count": 26,
   "id": "5af2de87-9941-4bb7-a0bb-8c072e8aa806",
   "metadata": {},
   "outputs": [
    {
     "data": {
      "text/plain": [
       "array([[ 1,  2,  3,  4],\n",
       "       [ 5,  6,  7,  8],\n",
       "       [ 9, 10, 11, 12]])"
      ]
     },
     "execution_count": 26,
     "metadata": {},
     "output_type": "execute_result"
    }
   ],
   "source": [
    "array4"
   ]
  },
  {
   "cell_type": "code",
   "execution_count": 38,
   "id": "1839cd5e-79a2-4761-a1c1-70ea17ac9b3b",
   "metadata": {},
   "outputs": [
    {
     "name": "stdout",
     "output_type": "stream",
     "text": [
      "[[ 6  8]\n",
      " [10 12]]\n"
     ]
    }
   ],
   "source": [
    "od_index=array4[1::1,1::2]\n",
    "print(od_index)"
   ]
  },
  {
   "cell_type": "code",
   "execution_count": null,
   "id": "e2c704cd-7d24-4b77-b8cd-32a406e6640a",
   "metadata": {},
   "outputs": [],
   "source": [
    "#7. How can you generate a ran^om 3x3 matrix with values between 0 an^ 1"
   ]
  },
  {
   "cell_type": "code",
   "execution_count": 39,
   "id": "c96da4ec-b6d2-4e15-bad6-234fcd4fc481",
   "metadata": {},
   "outputs": [],
   "source": [
    "random_matx=np.random.rand(3,3)"
   ]
  },
  {
   "cell_type": "code",
   "execution_count": 40,
   "id": "4829de76-58f4-4f32-955b-4be918ef6755",
   "metadata": {},
   "outputs": [
    {
     "name": "stdout",
     "output_type": "stream",
     "text": [
      "[[0.93958171 0.06098291 0.2754961 ]\n",
      " [0.16557257 0.81118569 0.32910261]\n",
      " [0.60733995 0.45075845 0.59837729]]\n"
     ]
    }
   ],
   "source": [
    "print(random_matx)"
   ]
  },
  {
   "cell_type": "code",
   "execution_count": null,
   "id": "97ccdb45-8526-4c4a-aee6-a4071ce73828",
   "metadata": {},
   "outputs": [],
   "source": [
    "#8. Describe the ^ifference between np.ran^om.ran^ an^ np.ran^om.ran^n?"
   ]
  },
  {
   "cell_type": "code",
   "execution_count": null,
   "id": "bc22cccd-76c7-4aad-a76a-ca95d43c56c6",
   "metadata": {},
   "outputs": [],
   "source": [
    "'''\n",
    "np.random.rand and np.random.randn are both functions from the NumPy library used to generate arrays of random numbers\n",
    "\n",
    "np.random.rand: Uniform distribution between 0 and 1.\n",
    "np.random.randn: Standard normal distribution with mean 0 and standard deviation 1.\n",
    "\n",
    "np.random.rand: When random values within a fixed range (0 to 1) are needed.\n",
    "np.random.randn: When random values that follow a normal distribution are needed, often used in statistical modeling and simulations.'''\n"
   ]
  },
  {
   "cell_type": "code",
   "execution_count": null,
   "id": "f5839a1e-ea84-4e23-a2d0-5dcfffa96413",
   "metadata": {},
   "outputs": [],
   "source": [
    "'''\n",
    "\n",
    "\n",
    "9. Write co^e to increase the ^imension of the following array?\n",
    "\n",
    "[[1, 2, 3, 4]\n",
    "\n",
    "[5, 6, 7, 8],\n",
    "\n",
    "[9, 10, 11, 12]]'''"
   ]
  },
  {
   "cell_type": "code",
   "execution_count": 41,
   "id": "f8dac357-2c3f-44a9-aeec-b2ce7e0951f9",
   "metadata": {},
   "outputs": [],
   "source": [
    "array = np.array([[1, 2, 3, 4],\n",
    "                  [5, 6, 7, 8],\n",
    "                  [9, 10, 11, 12]])"
   ]
  },
  {
   "cell_type": "code",
   "execution_count": 42,
   "id": "57da0ad9-d792-4af9-94cf-abdbe9a31b33",
   "metadata": {},
   "outputs": [],
   "source": [
    "#increasing dimensions\n",
    "expanded_array = np.expand_dims(array, axis=0)"
   ]
  },
  {
   "cell_type": "code",
   "execution_count": 44,
   "id": "6cc1b585-427f-45bb-b6f4-a430b1e92089",
   "metadata": {},
   "outputs": [
    {
     "name": "stdout",
     "output_type": "stream",
     "text": [
      "(1, 3, 4)\n"
     ]
    }
   ],
   "source": [
    "print(expanded_array.shape)"
   ]
  },
  {
   "cell_type": "code",
   "execution_count": null,
   "id": "3f571502-daaf-43be-aa12-900949665f42",
   "metadata": {},
   "outputs": [],
   "source": [
    "'''\n",
    "0. How to transpose the following array in NumPy?\n",
    "\n",
    "[[1, 2, 3, 4]\n",
    "\n",
    "[5, 6, 7, 8],\n",
    "\n",
    "[9, 10, 11, 12]]'''\n"
   ]
  },
  {
   "cell_type": "code",
   "execution_count": 46,
   "id": "fddb956f-062a-4503-a8ee-185b94211e78",
   "metadata": {},
   "outputs": [],
   "source": [
    "array=np.array([[1, 2, 3, 4],[5, 6, 7, 8],[9, 10, 11, 12]])"
   ]
  },
  {
   "cell_type": "code",
   "execution_count": 47,
   "id": "2a4778f1-64f0-494c-815c-6064edd14a0b",
   "metadata": {},
   "outputs": [
    {
     "data": {
      "text/plain": [
       "array([[ 1,  2,  3,  4],\n",
       "       [ 5,  6,  7,  8],\n",
       "       [ 9, 10, 11, 12]])"
      ]
     },
     "execution_count": 47,
     "metadata": {},
     "output_type": "execute_result"
    }
   ],
   "source": [
    "array"
   ]
  },
  {
   "cell_type": "code",
   "execution_count": 49,
   "id": "f1c78340-3838-4075-baab-25ebb5e4efc7",
   "metadata": {},
   "outputs": [
    {
     "name": "stdout",
     "output_type": "stream",
     "text": [
      "The transpose array: [[ 1  5  9]\n",
      " [ 2  6 10]\n",
      " [ 3  7 11]\n",
      " [ 4  8 12]]\n"
     ]
    }
   ],
   "source": [
    "trans_array=np.transpose(array)\n",
    "print(\"The transpose array:\" , trans_array)"
   ]
  },
  {
   "cell_type": "code",
   "execution_count": null,
   "id": "af1e39f4-f9bc-4255-ae48-5e8d42e5826d",
   "metadata": {},
   "outputs": [],
   "source": [
    "'''\n",
    "11. Consi^er the following matrix:\n",
    "\n",
    "Matrix A2 [[1, 2, 3, 4] [5, 6, 7, 8],[9, 10, 11, 12]]\n",
    "\n",
    "Matrix B2 [[1, 2, 3, 4] [5, 6, 7, 8],[9, 10, 11, 12]]\n",
    "\n",
    "\n",
    "Perform the following operation using Python1\n",
    ",+ I(dex wiLe multiplicatio'\n",
    "]+ Mat\u001bix multiplicatio'\n",
    "\u001a+ Add both the mat\u001bicK\n",
    "-+ Subt\u001bact mat\u001bix B \u0014\u001bom \u0011\n",
    "\u0013+ Di\u0012ide Mat\u001bix B by A'''\n"
   ]
  },
  {
   "cell_type": "code",
   "execution_count": 51,
   "id": "14e7a9d9-13c2-4e92-96db-153f98fe24a9",
   "metadata": {},
   "outputs": [],
   "source": [
    "A2=np.array([[1, 2, 3, 4], [5, 6, 7, 8],[9, 10, 11, 12]])\n",
    "B2=np.array([[1, 2, 3, 4] ,[5, 6, 7, 8],[9, 10, 11, 12]])"
   ]
  },
  {
   "cell_type": "code",
   "execution_count": 53,
   "id": "771edea9-d0d2-4277-bddc-8c8b46f6fce1",
   "metadata": {},
   "outputs": [
    {
     "name": "stdout",
     "output_type": "stream",
     "text": [
      "Index wise multiplication: [[  1   4   9  16]\n",
      " [ 25  36  49  64]\n",
      " [ 81 100 121 144]]\n"
     ]
    }
   ],
   "source": [
    "#Index wise multiplication\n",
    "indx_mul=A2*B2\n",
    "print(\"Index wise multiplication:\",indx_mul)"
   ]
  },
  {
   "cell_type": "code",
   "execution_count": 55,
   "id": "c538bd42-481a-4dbf-8d70-2add5ea403d6",
   "metadata": {},
   "outputs": [
    {
     "name": "stdout",
     "output_type": "stream",
     "text": [
      "Matrix Multiplication: [[ 30  70 110]\n",
      " [ 70 174 278]\n",
      " [110 278 446]]\n"
     ]
    }
   ],
   "source": [
    "# Mat\u001bix multiplicatio'\n",
    "\n",
    "matx_mul=np.dot(A2,B2.T)\n",
    "print(\"Matrix Multiplication:\",matx_mul)"
   ]
  },
  {
   "cell_type": "code",
   "execution_count": 56,
   "id": "07ec88e5-525a-4883-a87e-cb143b9033d7",
   "metadata": {},
   "outputs": [
    {
     "name": "stdout",
     "output_type": "stream",
     "text": [
      "Addition: [[ 2  4  6  8]\n",
      " [10 12 14 16]\n",
      " [18 20 22 24]]\n"
     ]
    }
   ],
   "source": [
    "#Add both the mat\u001bicK\n",
    "sum_matx=A2+B2\n",
    "print(\"Addition:\",sum_matx)"
   ]
  },
  {
   "cell_type": "code",
   "execution_count": 57,
   "id": "d34ac1f9-0738-42a4-b45a-ff04d2666a8a",
   "metadata": {},
   "outputs": [
    {
     "name": "stdout",
     "output_type": "stream",
     "text": [
      "Subtraction: [[0 0 0 0]\n",
      " [0 0 0 0]\n",
      " [0 0 0 0]]\n"
     ]
    }
   ],
   "source": [
    "#-+ Subt\u001bact mat\u001bix B \u0014\u001bom \u0011\n",
    "sub_matx=A2-B2\n",
    "print(\"Subtraction:\",sub_matx)"
   ]
  },
  {
   "cell_type": "code",
   "execution_count": 58,
   "id": "e69ce452-4fe1-4bda-908e-85f03619cf39",
   "metadata": {},
   "outputs": [
    {
     "name": "stdout",
     "output_type": "stream",
     "text": [
      "Divide: [[1. 1. 1. 1.]\n",
      " [1. 1. 1. 1.]\n",
      " [1. 1. 1. 1.]]\n"
     ]
    }
   ],
   "source": [
    "#\u0013+ Di\u0012ide Mat\u001bix B by A\n",
    "div_matx=A2/B2\n",
    "print(\"Divide:\",div_matx)"
   ]
  },
  {
   "cell_type": "code",
   "execution_count": null,
   "id": "e4b9444e-454a-4142-8ffd-4e9267dd86ae",
   "metadata": {},
   "outputs": [],
   "source": [
    "#12.  Which function in Numpy can be use^ to swap the byte or^er of an array?"
   ]
  },
  {
   "cell_type": "code",
   "execution_count": null,
   "id": "379e61aa-e643-428f-9c88-3e34a4ef68b0",
   "metadata": {},
   "outputs": [],
   "source": [
    "'''The numpy.ndarray.byteswap function to swap the byte order of an array. \n",
    "This function is useful when you need to handle data with different byte orders or endian formats.'''"
   ]
  },
  {
   "cell_type": "code",
   "execution_count": null,
   "id": "d0c319d7-4623-4abf-b646-dc165a694041",
   "metadata": {},
   "outputs": [],
   "source": [
    "# What is the significance of the np.linalg.inv function?"
   ]
  },
  {
   "cell_type": "code",
   "execution_count": null,
   "id": "7fd82fc7-0d02-44d0-a83a-24602eae7e5f",
   "metadata": {},
   "outputs": [],
   "source": [
    "'''\n",
    "The np.linalg.inv function in NumPy is used to compute the inverse of a square matrix.'''"
   ]
  },
  {
   "cell_type": "code",
   "execution_count": null,
   "id": "05a9dd97-e911-47db-8fcf-c4e457c76970",
   "metadata": {},
   "outputs": [],
   "source": [
    "#14. What ^oes the np.reshape function ^o, an^ how is it use^"
   ]
  },
  {
   "cell_type": "code",
   "execution_count": null,
   "id": "be367966-b842-44f6-8456-0904c568a276",
   "metadata": {},
   "outputs": [],
   "source": [
    "'''\n",
    "The np.reshape function in NumPy is used to change the shape or dimensions of an existing array without changing its data.\n",
    "It allows you to create a new view of the array with a different shape while keeping the same data.'''"
   ]
  },
  {
   "cell_type": "code",
   "execution_count": null,
   "id": "106eadec-1c09-4df6-8c6a-42e38d37a767",
   "metadata": {},
   "outputs": [],
   "source": [
    "#15. What is broa^casting in Numpy?"
   ]
  },
  {
   "cell_type": "code",
   "execution_count": null,
   "id": "0d5160ff-0cc6-49b2-b854-7563448ad486",
   "metadata": {},
   "outputs": [],
   "source": [
    "'''\n",
    "Broadcasting in NumPy is a powerful mechanism that allows NumPy to perform operations on arrays of different shapes in a way that \n",
    "simplifies the code and avoids the need for explicit loops. It makes it possible to perform arithmetic operations on arrays that do \n",
    "not have the same dimensions by automatically expanding the smaller array to match \n",
    "the shape of the larger array.'''"
   ]
  }
 ],
 "metadata": {
  "kernelspec": {
   "display_name": "Python 3 (ipykernel)",
   "language": "python",
   "name": "python3"
  },
  "language_info": {
   "codemirror_mode": {
    "name": "ipython",
    "version": 3
   },
   "file_extension": ".py",
   "mimetype": "text/x-python",
   "name": "python",
   "nbconvert_exporter": "python",
   "pygments_lexer": "ipython3",
   "version": "3.10.8"
  }
 },
 "nbformat": 4,
 "nbformat_minor": 5
}
